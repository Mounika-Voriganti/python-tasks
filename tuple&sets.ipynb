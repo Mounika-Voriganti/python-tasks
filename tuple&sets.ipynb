{
 "cells": [
  {
   "cell_type": "code",
   "execution_count": null,
   "metadata": {},
   "outputs": [],
   "source": [
    "#Task6 - Add and remove the elements from a tuple"
   ]
  },
  {
   "cell_type": "code",
   "execution_count": null,
   "metadata": {},
   "outputs": [],
   "source": [
    "x = (1,2,3,4,2,4,5,6,\"hi\",\"hello\")\n",
    "y = (\"a\",\"bcdef\")\n",
    "z = x+y\n",
    "print(z)"
   ]
  },
  {
   "cell_type": "code",
   "execution_count": null,
   "metadata": {},
   "outputs": [],
   "source": [
    "# tuples can't delete an item inside it, they can be deleted entirely, as there are immutable."
   ]
  },
  {
   "cell_type": "code",
   "execution_count": null,
   "metadata": {},
   "outputs": [],
   "source": [
    "y = (\"a\",\"bcdef\")\n",
    "del y\n",
    "print(y)"
   ]
  },
  {
   "cell_type": "code",
   "execution_count": null,
   "metadata": {},
   "outputs": [],
   "source": [
    "#Task7 - go through other inbuilt methods like [1) difference() 2) symmetric_difference()]\n",
    "\n",
    "#Indexing and Slicing is not allowed in sets\n",
    "A = {100,20, 30, 40, 50,60}\n",
    "B = {10,20,30,40,50,90,110}\n",
    "print (A-B)\n",
    "print (B-A)"
   ]
  },
  {
   "cell_type": "code",
   "execution_count": null,
   "metadata": {},
   "outputs": [],
   "source": [
    "#The symmetric_difference() method returns a set that contains all items from both set,\n",
    "#but not the items that are present in both sets.\n",
    "#set.symmetric_difference(set)"
   ]
  },
  {
   "cell_type": "code",
   "execution_count": null,
   "metadata": {},
   "outputs": [],
   "source": [
    "A = {100,20, 30, 40, 50,60}\n",
    "B = {10,20,30,40,50,90,110}\n",
    "A.symmetric_difference(B)\n"
   ]
  },
  {
   "cell_type": "code",
   "execution_count": null,
   "metadata": {},
   "outputs": [],
   "source": [
    "#Task 8\n",
    "#Make a table of all the In-built data structures and Point out the differences one by one"
   ]
  },
  {
   "cell_type": "code",
   "execution_count": null,
   "metadata": {},
   "outputs": [],
   "source": []
  }
 ],
 "metadata": {
  "kernelspec": {
   "display_name": "Python 3",
   "language": "python",
   "name": "python3"
  },
  "language_info": {
   "codemirror_mode": {
    "name": "ipython",
    "version": 3
   },
   "file_extension": ".py",
   "mimetype": "text/x-python",
   "name": "python",
   "nbconvert_exporter": "python",
   "pygments_lexer": "ipython3",
   "version": "3.7.3"
  }
 },
 "nbformat": 4,
 "nbformat_minor": 2
}
